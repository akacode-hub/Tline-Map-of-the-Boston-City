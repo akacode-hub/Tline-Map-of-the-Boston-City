{
 "cells": [
  {
   "cell_type": "code",
   "execution_count": 1,
   "id": "20784c41",
   "metadata": {},
   "outputs": [],
   "source": [
    "import os\n",
    "import sys\n",
    "import pandas as pd\n",
    "from bs4 import BeautifulSoup"
   ]
  },
  {
   "cell_type": "code",
   "execution_count": 2,
   "id": "ebaf3a3c",
   "metadata": {},
   "outputs": [],
   "source": [
    "path = 'C:/Users/akank/OneDrive/Desktop/data.html'"
   ]
  },
  {
   "cell_type": "code",
   "execution_count": 3,
   "id": "4798a42a",
   "metadata": {},
   "outputs": [],
   "source": [
    "# empty list\n",
    "data = []"
   ]
  },
  {
   "cell_type": "code",
   "execution_count": 4,
   "id": "ce0b98b9",
   "metadata": {},
   "outputs": [],
   "source": [
    "# for getting the header from\n",
    "# the HTML file\n",
    "list_header = []\n",
    "soup = BeautifulSoup(open(path),'html.parser')\n",
    "header = soup.find_all(\"table\")[1].find(\"tr\")\n",
    "  \n",
    "for items in header:\n",
    "    try:\n",
    "        list_header.append(items.get_text())\n",
    "    except:\n",
    "        continue"
   ]
  },
  {
   "cell_type": "code",
   "execution_count": 5,
   "id": "edee203a",
   "metadata": {},
   "outputs": [],
   "source": [
    "# for getting the data \n",
    "HTML_data = soup.find_all(\"table\")[1].find_all(\"tr\")[1:]\n",
    "  \n",
    "for element in HTML_data:\n",
    "    sub_data = []\n",
    "    for sub_element in element:\n",
    "        try:\n",
    "            sub_data.append(sub_element.get_text())\n",
    "        except:\n",
    "            continue\n",
    "    data.append(sub_data)"
   ]
  },
  {
   "cell_type": "code",
   "execution_count": 6,
   "id": "f5e2edc4",
   "metadata": {},
   "outputs": [],
   "source": [
    "# Storing the data into Pandas\n",
    "# DataFrame \n",
    "dataFrame = pd.DataFrame(data = data, columns = list_header)"
   ]
  },
  {
   "cell_type": "code",
   "execution_count": 7,
   "id": "7736d95d",
   "metadata": {},
   "outputs": [],
   "source": [
    "# Converting Pandas DataFrame\n",
    "# into CSV file\n",
    "dataFrame.to_csv('connections.csv')"
   ]
  },
  {
   "cell_type": "code",
   "execution_count": null,
   "id": "58bc9d89",
   "metadata": {},
   "outputs": [],
   "source": []
  }
 ],
 "metadata": {
  "kernelspec": {
   "display_name": "Python 3 (ipykernel)",
   "language": "python",
   "name": "python3"
  },
  "language_info": {
   "codemirror_mode": {
    "name": "ipython",
    "version": 3
   },
   "file_extension": ".py",
   "mimetype": "text/x-python",
   "name": "python",
   "nbconvert_exporter": "python",
   "pygments_lexer": "ipython3",
   "version": "3.9.12"
  }
 },
 "nbformat": 4,
 "nbformat_minor": 5
}
